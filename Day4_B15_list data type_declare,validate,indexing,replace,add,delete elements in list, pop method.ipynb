{
 "cells": [
  {
   "cell_type": "code",
   "execution_count": 1,
   "metadata": {},
   "outputs": [
    {
     "name": "stdout",
     "output_type": "stream",
     "text": [
      "['potato', 'tomato', 'garlic', 'ginger', 'spinach', 'kale']\n"
     ]
    }
   ],
   "source": [
    "#declaring list data type\n",
    "veg=['potato','tomato','garlic','ginger','spinach','kale']\n",
    "print(veg)"
   ]
  },
  {
   "cell_type": "code",
   "execution_count": 2,
   "metadata": {},
   "outputs": [
    {
     "data": {
      "text/plain": [
       "list"
      ]
     },
     "execution_count": 2,
     "metadata": {},
     "output_type": "execute_result"
    }
   ],
   "source": [
    "#verify and validating list data type\n",
    "veg=['potato','tomato','garlic','ginger','spinach','kale']\n",
    "type(veg)"
   ]
  },
  {
   "cell_type": "code",
   "execution_count": null,
   "metadata": {},
   "outputs": [],
   "source": [
    "#indexing list data type"
   ]
  },
  {
   "cell_type": "code",
   "execution_count": 4,
   "metadata": {},
   "outputs": [
    {
     "name": "stdout",
     "output_type": "stream",
     "text": [
      "tomato\n"
     ]
    }
   ],
   "source": [
    "veg=['potato','tomato','garlic','ginger','spinach','kale']\n",
    "print(veg[1]) #printing only tomato from veg list"
   ]
  },
  {
   "cell_type": "code",
   "execution_count": 23,
   "metadata": {},
   "outputs": [
    {
     "name": "stdout",
     "output_type": "stream",
     "text": [
      "['potato', 'cabbage', 'garlic', 'ginger', 'spinach', 'kale']\n"
     ]
    }
   ],
   "source": [
    "#replacing elements in list data type\n",
    "veg=['potato','tomato','garlic','ginger','spinach','kale']\n",
    "veg[1]='cabbage' #replacing tomato with cabbage\n",
    "print(veg)  #printing the list after replacing"
   ]
  },
  {
   "cell_type": "code",
   "execution_count": 16,
   "metadata": {},
   "outputs": [
    {
     "name": "stdout",
     "output_type": "stream",
     "text": [
      "['potato', 'tomato', 'garlic', 'ginger', 'spinach', 'kale', 'cauliflower']\n"
     ]
    }
   ],
   "source": [
    "#adding elements at the end of list data: using append method\n",
    "veg=['potato','tomato','garlic','ginger','spinach','kale']\n",
    "veg.append('cauliflower')  #adding cauliflower at the end of list\n",
    "print(veg)  #printing list after adding cauliflower at the end of the list"
   ]
  },
  {
   "cell_type": "code",
   "execution_count": 22,
   "metadata": {},
   "outputs": [
    {
     "name": "stdout",
     "output_type": "stream",
     "text": [
      "['potato', 'cauliflower', 'tomato', 'garlic', 'ginger', 'spinach', 'kale']\n"
     ]
    }
   ],
   "source": [
    "#adding elements to the 1st index position of list data: using insert method\n",
    "veg=['potato','tomato','garlic','ginger','spinach','kale']\n",
    "veg.insert(1,'cauliflower') #inserting cauliflower to list in 1st index\n",
    "print(veg) #printing list after adding cauliflower to the 1st index position of list"
   ]
  },
  {
   "cell_type": "code",
   "execution_count": 21,
   "metadata": {},
   "outputs": [
    {
     "name": "stdout",
     "output_type": "stream",
     "text": [
      "['potato', 'garlic', 'ginger', 'spinach', 'kale']\n"
     ]
    }
   ],
   "source": [
    "#delete elements in list data: using del method\n",
    "veg=['potato','tomato','garlic','ginger','spinach','kale']\n",
    "del veg[1]  #deleting tomato in list\n",
    "print(veg)  #printing veg list after deleting tomato "
   ]
  },
  {
   "cell_type": "code",
   "execution_count": 25,
   "metadata": {},
   "outputs": [
    {
     "name": "stdout",
     "output_type": "stream",
     "text": [
      "kale\n",
      "['potato', 'tomato', 'garlic', 'ginger', 'spinach']\n"
     ]
    }
   ],
   "source": [
    "#delete elements in list data: using pop method\n",
    "veg=['potato','tomato','garlic','ginger','spinach','kale']\n",
    "x=veg.pop() #last element of the list\n",
    "print(x)    #printing last element of the list\n",
    "print(veg)  #printing veg list after deleting using pop method"
   ]
  },
  {
   "cell_type": "code",
   "execution_count": 35,
   "metadata": {},
   "outputs": [
    {
     "data": {
      "text/plain": [
       "'spinach'"
      ]
     },
     "execution_count": 35,
     "metadata": {},
     "output_type": "execute_result"
    }
   ],
   "source": [
    "#by default pop method deletes last element of the list \n",
    "veg=['potato', 'tomato', 'garlic', 'ginger', 'spinach']\n",
    "veg.pop() #last element of the list"
   ]
  },
  {
   "cell_type": "code",
   "execution_count": 36,
   "metadata": {},
   "outputs": [
    {
     "name": "stdout",
     "output_type": "stream",
     "text": [
      "['potato', 'tomato', 'garlic', 'ginger']\n"
     ]
    }
   ],
   "source": [
    "print(veg) #printing list after deleting element using pop method"
   ]
  },
  {
   "cell_type": "code",
   "execution_count": 37,
   "metadata": {},
   "outputs": [
    {
     "name": "stdout",
     "output_type": "stream",
     "text": [
      "['potato', 'tomato', 'ginger']\n"
     ]
    }
   ],
   "source": [
    "#controlled deleting of elements in the list using pop method\n",
    "veg=['potato', 'tomato', 'garlic', 'ginger']\n",
    "veg.pop(2) # deleting 2nd index element(garlic) of the list using pop method\n",
    "print(veg) #printing the list after deleting 2nd element(garlic) of the list using pop method"
   ]
  },
  {
   "cell_type": "code",
   "execution_count": null,
   "metadata": {},
   "outputs": [],
   "source": [
    "#Difference between pop and del methods in the list is \n",
    "#pop will not delete items permanently \n",
    "#pop will create carbon copy internally"
   ]
  }
 ],
 "metadata": {
  "kernelspec": {
   "display_name": "Python 3",
   "language": "python",
   "name": "python3"
  },
  "language_info": {
   "codemirror_mode": {
    "name": "ipython",
    "version": 3
   },
   "file_extension": ".py",
   "mimetype": "text/x-python",
   "name": "python",
   "nbconvert_exporter": "python",
   "pygments_lexer": "ipython3",
   "version": "3.7.3"
  }
 },
 "nbformat": 4,
 "nbformat_minor": 2
}
