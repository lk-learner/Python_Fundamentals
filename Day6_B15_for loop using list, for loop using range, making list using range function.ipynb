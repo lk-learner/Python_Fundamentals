{
 "cells": [
  {
   "cell_type": "code",
   "execution_count": null,
   "metadata": {},
   "outputs": [],
   "source": [
    "#introduction to for loops"
   ]
  },
  {
   "cell_type": "code",
   "execution_count": 5,
   "metadata": {},
   "outputs": [
    {
     "name": "stdout",
     "output_type": "stream",
     "text": [
      "['potato', 'tomato', 'cabbage', 'cauliflower', 'eggplant']\n",
      "['cabbage', 'cauliflower', 'eggplant', 'potato', 'tomato']\n",
      "Cabbage is a vegetable.\n"
     ]
    }
   ],
   "source": [
    "veg=['potato','tomato','cabbage','cauliflower','eggplant']\n",
    "print(veg) #printing whole list\n",
    "print(sorted(veg)) #sorting list\n",
    "print(f'{veg[2].title()} is a vegetable.') #typical printing of list item"
   ]
  },
  {
   "cell_type": "code",
   "execution_count": 6,
   "metadata": {},
   "outputs": [
    {
     "name": "stdout",
     "output_type": "stream",
     "text": [
      "potato\n",
      "tomato\n",
      "cabbage\n",
      "cauliflower\n",
      "eggplant\n"
     ]
    }
   ],
   "source": [
    "for veg in veg: #print using simple for loop\n",
    "    print(veg)"
   ]
  },
  {
   "cell_type": "code",
   "execution_count": 11,
   "metadata": {},
   "outputs": [
    {
     "name": "stdout",
     "output_type": "stream",
     "text": [
      "Potato is a vegetable.\n",
      "Tomato is a vegetable.\n",
      "Cabbage is a vegetable.\n",
      "Cauliflower is a vegetable.\n",
      "Eggplant is a vegetable.\n"
     ]
    }
   ],
   "source": [
    "veg=['potato','tomato','cabbage','cauliflower','eggplant']\n",
    "for veg in veg:\n",
    "    print(f'{veg.title()} is a vegetable.') #printing using enhancement of for loop"
   ]
  },
  {
   "cell_type": "markdown",
   "metadata": {},
   "source": [
    "General syntax of a for loop\n",
    "\n",
    "for tempvariable in mainvariable:\n",
    "    print(tempvariable)"
   ]
  },
  {
   "cell_type": "code",
   "execution_count": 10,
   "metadata": {},
   "outputs": [
    {
     "name": "stdout",
     "output_type": "stream",
     "text": [
      "potato\n",
      "tomato\n",
      "cabbage\n",
      "cauliflower\n",
      "eggplant\n"
     ]
    }
   ],
   "source": [
    "# setting temporary variable as a character\n",
    "veg=['potato','tomato','cabbage','cauliflower','eggplant']\n",
    "for x in veg:\n",
    "    print(x)"
   ]
  },
  {
   "cell_type": "code",
   "execution_count": 12,
   "metadata": {},
   "outputs": [
    {
     "name": "stdout",
     "output_type": "stream",
     "text": [
      "Potato is a vegetable.\n",
      "Tomato is a vegetable.\n",
      "Cabbage is a vegetable.\n",
      "Cauliflower is a vegetable.\n",
      "Eggplant is a vegetable.\n"
     ]
    }
   ],
   "source": [
    "# setting temporary variable as a character with enhanced print\n",
    "veg=['potato','tomato','cabbage','cauliflower','eggplant']\n",
    "for x in veg:\n",
    "    print(f'{x.title()} is a vegetable.')"
   ]
  },
  {
   "cell_type": "code",
   "execution_count": 14,
   "metadata": {},
   "outputs": [
    {
     "name": "stdout",
     "output_type": "stream",
     "text": [
      "Potato is a vegetable.\n",
      "Potato is available throughout the year in markets.\n",
      "Tomato is a vegetable.\n",
      "Tomato is available throughout the year in markets.\n",
      "Cabbage is a vegetable.\n",
      "Cabbage is available throughout the year in markets.\n",
      "Cauliflower is a vegetable.\n",
      "Cauliflower is available throughout the year in markets.\n",
      "Eggplant is a vegetable.\n",
      "Eggplant is available throughout the year in markets.\n"
     ]
    }
   ],
   "source": [
    "# setting temporary variable as a character with enhanced print\n",
    "veg=['potato','tomato','cabbage','cauliflower','eggplant']\n",
    "for x in veg:\n",
    "    print(f'{x.title()} is a vegetable.')\n",
    "    print(f'{x.title()} is available throughout the year in markets.')"
   ]
  },
  {
   "cell_type": "code",
   "execution_count": 15,
   "metadata": {},
   "outputs": [
    {
     "name": "stdout",
     "output_type": "stream",
     "text": [
      "Potato is a vegetable.\n",
      "Potato is available throughout the year in markets. \n",
      "\n",
      "Tomato is a vegetable.\n",
      "Tomato is available throughout the year in markets. \n",
      "\n",
      "Cabbage is a vegetable.\n",
      "Cabbage is available throughout the year in markets. \n",
      "\n",
      "Cauliflower is a vegetable.\n",
      "Cauliflower is available throughout the year in markets. \n",
      "\n",
      "Eggplant is a vegetable.\n",
      "Eggplant is available throughout the year in markets. \n",
      "\n"
     ]
    }
   ],
   "source": [
    "# setting temporary variable as a character with enhanced printing and newline formatting\n",
    "veg=['potato','tomato','cabbage','cauliflower','eggplant']\n",
    "for x in veg:\n",
    "    print(f'{x.title()} is a vegetable.')\n",
    "    print(f'{x.title()} is available throughout the year in markets. \\n')"
   ]
  },
  {
   "cell_type": "code",
   "execution_count": 19,
   "metadata": {},
   "outputs": [
    {
     "name": "stdout",
     "output_type": "stream",
     "text": [
      "Potato is a vegetable.\n",
      "Potato is available throughout the year in markets. \n",
      "\n",
      "Tomato is a vegetable.\n",
      "Tomato is available throughout the year in markets. \n",
      "\n",
      "Cabbage is a vegetable.\n",
      "Cabbage is available throughout the year in markets. \n",
      "\n",
      "Cauliflower is a vegetable.\n",
      "Cauliflower is available throughout the year in markets. \n",
      "\n",
      "Eggplant is a vegetable.\n",
      "Eggplant is available throughout the year in markets. \n",
      "\n",
      "All these vegetables provide nutrition to people.\n"
     ]
    }
   ],
   "source": [
    "# setting temporary variable as a character with enhanced printing and newline formatting and print outside for loop\n",
    "veg=['potato','tomato','cabbage','cauliflower','eggplant']\n",
    "for x in veg:\n",
    "    print(f'{x.title()} is a vegetable.')\n",
    "    print(f'{x.title()} is available throughout the year in markets. \\n')\n",
    "print(f'All these vegetables provide nutrition to people.')"
   ]
  },
  {
   "cell_type": "code",
   "execution_count": 28,
   "metadata": {},
   "outputs": [
    {
     "name": "stdout",
     "output_type": "stream",
     "text": [
      "1\n",
      "2\n",
      "3\n",
      "4\n",
      "5\n",
      "6\n",
      "7\n",
      "8\n",
      "9\n",
      "10\n",
      "11\n",
      "12\n",
      "13\n",
      "14\n",
      "15\n",
      "16\n",
      "17\n",
      "18\n",
      "19\n",
      "20\n",
      "21\n",
      "22\n",
      "23\n",
      "24\n",
      "25\n",
      "26\n",
      "27\n",
      "28\n",
      "29\n",
      "30\n",
      "31\n",
      "32\n",
      "33\n",
      "34\n",
      "35\n",
      "36\n",
      "37\n",
      "38\n",
      "39\n",
      "40\n",
      "41\n",
      "42\n",
      "43\n",
      "44\n",
      "45\n",
      "46\n",
      "47\n",
      "48\n",
      "49\n",
      "50\n"
     ]
    }
   ],
   "source": [
    "#making numerical list using for loop and range function\n",
    "for value in range(1,51):\n",
    "    print(value)"
   ]
  },
  {
   "cell_type": "code",
   "execution_count": 23,
   "metadata": {},
   "outputs": [
    {
     "name": "stdout",
     "output_type": "stream",
     "text": [
      "[1, 2, 3, 4, 5, 6, 7, 8, 9, 10, 11, 12, 13, 14, 15, 16, 17, 18, 19, 20]\n"
     ]
    }
   ],
   "source": [
    "#making numerical list using range function\n",
    "numbers=list(range(1,21))\n",
    "print(numbers)"
   ]
  },
  {
   "cell_type": "code",
   "execution_count": null,
   "metadata": {},
   "outputs": [],
   "source": []
  }
 ],
 "metadata": {
  "kernelspec": {
   "display_name": "Python 3",
   "language": "python",
   "name": "python3"
  },
  "language_info": {
   "codemirror_mode": {
    "name": "ipython",
    "version": 3
   },
   "file_extension": ".py",
   "mimetype": "text/x-python",
   "name": "python",
   "nbconvert_exporter": "python",
   "pygments_lexer": "ipython3",
   "version": "3.7.3"
  }
 },
 "nbformat": 4,
 "nbformat_minor": 2
}
