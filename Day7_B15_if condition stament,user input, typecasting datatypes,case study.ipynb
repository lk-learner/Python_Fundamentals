{
 "cells": [
  {
   "cell_type": "code",
   "execution_count": 2,
   "metadata": {},
   "outputs": [
    {
     "name": "stdout",
     "output_type": "stream",
     "text": [
      "This is BMW car.\n",
      "This is Audi car.\n",
      "This is Benz car.\n",
      "This is Toyota car.\n",
      "This is Maruti car.\n"
     ]
    }
   ],
   "source": [
    "#Introduction to if condition statements:\n",
    "cars=    ['bmw','audi','benz','toyota','maruti']\n",
    "#requirement: bmw ----> I want to print in uppercase ---->BMW and all other cars title case\n",
    "for car in cars:\n",
    "    if car=='bmw':\n",
    "        print('This is',car.upper(),'car.')\n",
    "    else:\n",
    "        print('This is',car.title(),'car.')"
   ]
  },
  {
   "cell_type": "code",
   "execution_count": null,
   "metadata": {},
   "outputs": [],
   "source": [
    "\"\"\"\n",
    "if conditions are used to define and validate the conditions of program.\n",
    "== is for equality testing\n",
    "= only single, you are assigning something\n",
    "\n",
    "\"\"\""
   ]
  },
  {
   "cell_type": "code",
   "execution_count": 3,
   "metadata": {},
   "outputs": [
    {
     "name": "stdout",
     "output_type": "stream",
     "text": [
      "tell me something and i will repeat it for you: hello\n",
      "hello\n"
     ]
    }
   ],
   "source": [
    "#user accepted input: example1\n",
    "\n",
    "message=input('tell me something and i will repeat it for you: ')\n",
    "print(message)\n"
   ]
  },
  {
   "cell_type": "code",
   "execution_count": 9,
   "metadata": {},
   "outputs": [
    {
     "name": "stdout",
     "output_type": "stream",
     "text": [
      "Please enter your name: ram\n",
      "\n",
      "Hello! good to see you in the session, Ram\n"
     ]
    }
   ],
   "source": [
    "#user accepted input: example2\n",
    "\n",
    "name=input('Please enter your name: ')\n",
    "print(f'\\nHello! good to see you in the session, {name.title()}')"
   ]
  },
  {
   "cell_type": "code",
   "execution_count": null,
   "metadata": {},
   "outputs": [],
   "source": [
    "# input --->by default it will be taking string as a input."
   ]
  },
  {
   "cell_type": "code",
   "execution_count": 10,
   "metadata": {},
   "outputs": [
    {
     "name": "stdout",
     "output_type": "stream",
     "text": [
      "Please enter your height: 4\n",
      "4\n"
     ]
    }
   ],
   "source": [
    "#accepting integer as input:\n",
    "\n",
    "height=input('Please enter your height: ')\n",
    "print(height)"
   ]
  },
  {
   "cell_type": "code",
   "execution_count": 11,
   "metadata": {},
   "outputs": [
    {
     "ename": "TypeError",
     "evalue": "'>=' not supported between instances of 'str' and 'int'",
     "output_type": "error",
     "traceback": [
      "\u001b[1;31m---------------------------------------------------------------------------\u001b[0m",
      "\u001b[1;31mTypeError\u001b[0m                                 Traceback (most recent call last)",
      "\u001b[1;32m<ipython-input-11-6bfe3add019e>\u001b[0m in \u001b[0;36m<module>\u001b[1;34m\u001b[0m\n\u001b[1;32m----> 1\u001b[1;33m \u001b[0mheight\u001b[0m\u001b[1;33m>=\u001b[0m\u001b[1;36m5\u001b[0m\u001b[1;33m\u001b[0m\u001b[1;33m\u001b[0m\u001b[0m\n\u001b[0m",
      "\u001b[1;31mTypeError\u001b[0m: '>=' not supported between instances of 'str' and 'int'"
     ]
    }
   ],
   "source": [
    "height>=5 #This will give you error because by default input accpted as string. we need to convert str to int"
   ]
  },
  {
   "cell_type": "code",
   "execution_count": 12,
   "metadata": {},
   "outputs": [
    {
     "data": {
      "text/plain": [
       "False"
      ]
     },
     "execution_count": 12,
     "metadata": {},
     "output_type": "execute_result"
    }
   ],
   "source": [
    "# Type casting of datatypes:\n",
    "# Means, We have to convert the datatype to another datatype.\n",
    "\n",
    "height=int(height)\n",
    "height>=5\n"
   ]
  },
  {
   "cell_type": "code",
   "execution_count": 16,
   "metadata": {},
   "outputs": [
    {
     "name": "stdout",
     "output_type": "stream",
     "text": [
      "How old are you? 11\n",
      "\n",
      "Try next year.\n"
     ]
    }
   ],
   "source": [
    "#CASESTUDY: Building a simple voting application:\n",
    "#criteria: A person needs to be 18 or older.\n",
    "\n",
    "age=int(input('How old are you? '))\n",
    "if age>=18:\n",
    "    print('\\nYou are allowed to vote.')\n",
    "else:\n",
    "    print('\\nTry next year.')"
   ]
  },
  {
   "cell_type": "code",
   "execution_count": null,
   "metadata": {},
   "outputs": [],
   "source": []
  }
 ],
 "metadata": {
  "kernelspec": {
   "display_name": "Python 3",
   "language": "python",
   "name": "python3"
  },
  "language_info": {
   "codemirror_mode": {
    "name": "ipython",
    "version": 3
   },
   "file_extension": ".py",
   "mimetype": "text/x-python",
   "name": "python",
   "nbconvert_exporter": "python",
   "pygments_lexer": "ipython3",
   "version": "3.7.3"
  }
 },
 "nbformat": 4,
 "nbformat_minor": 2
}
